{
 "cells": [
  {
   "cell_type": "markdown",
   "id": "9455c6ad",
   "metadata": {},
   "source": [
    "<h1><center> \n",
    "    Travaux pratiques:\n",
    "    \n",
    "       Notebook Intégration numérique\n",
    "\n",
    "</center></h1>"
   ]
  },
  {
   "cell_type": "markdown",
   "id": "f9330401",
   "metadata": {},
   "source": [
    "### Sommes de Darboux pour $y=x^2$ sur l'intervalle $[0,1]$\n",
    "\n",
    "Inférieure             | Supérieure\n",
    ":-------------------------:|:-------------------------:\n",
    "![](data/Riemann_Integration_and_Darboux_Lower_Sums.gif)  |  ![](data/Riemann_Integration_and_Darboux_Upper_Sums.gif)\n",
    "\n",
    "\n",
    "[source Wikipédia](https://fr.wikipedia.org/wiki/Int%C3%A9grale_de_Darboux#:~:text=Plus%20concr%C3%A8tement%2C%20pour%20une%20subdivision,sous%2Dintervalle%20de%20la%20subdivision.)"
   ]
  },
  {
   "cell_type": "markdown",
   "id": "d3211010",
   "metadata": {},
   "source": [
    "## Exercice 1\n",
    "__But :__ Déterminer une formule de quadrature aux noeuds $(c_1, c_2) = \\left(\\frac{1}{3}, \\frac{2}{3}\\right)$.\n",
    "\n",
    "- il s'agit donc d'une formule à deux étages.\n",
    "- il nous faut trouver la valeur des poids $b_1$ et $b_2$.\n",
    "\n",
    "__Rappel:__ Une formule de quadratures à $s$ étages est d'ordre au moins $s+1$ si $\\forall q \\in \\{1,...,s\\}$\n",
    "$$\n",
    "\\sum_{i=1}^{s} b_i c_i^{q-1} = \\frac{1}{q}.\n",
    "$$"
   ]
  },
  {
   "cell_type": "code",
   "execution_count": 1,
   "id": "dfaa64fb",
   "metadata": {},
   "outputs": [
    {
     "ename": "SyntaxError",
     "evalue": "invalid syntax (3576794054.py, line 5)",
     "output_type": "error",
     "traceback": [
      "\u001b[1;36m  Cell \u001b[1;32mIn [1], line 5\u001b[1;36m\u001b[0m\n\u001b[1;33m    V = np.zeros(..)\u001b[0m\n\u001b[1;37m                 ^\u001b[0m\n\u001b[1;31mSyntaxError\u001b[0m\u001b[1;31m:\u001b[0m invalid syntax\n"
     ]
    }
   ],
   "source": [
    "import numpy as np\n",
    "noeuds = [1/3,2/3]\n",
    "s = len(noeuds)\n",
    "\n",
    "V = np.zeros(..)\n",
    "\n",
    "qs = np.zeros(s)\n",
    "for ordre in range(s):\n",
    "    for index, noeud in enumerate(noeuds):\n",
    "        ...\n",
    "    ...\n",
    "\n",
    "print('V=\\n',V)\n",
    "print('\\nqs=\\n', qs)\n",
    "\n",
    "poids = np.linalg.inv(V) @ qs\n",
    "\n",
    "print(\"\\npoids=\\n\",poids)"
   ]
  },
  {
   "cell_type": "markdown",
   "id": "3ca574b3",
   "metadata": {},
   "source": [
    "> La formule de quadrature aux noeuds $\\frac{1}{3}$ et $\\frac{2}{3}$ est donc  :\n",
    "$$\n",
    "I\\simeq ... f\\left(\\frac{1}{3}\\right) + ...f\\left(\\frac{2}{3}\\right) \n",
    "$$"
   ]
  },
  {
   "cell_type": "markdown",
   "id": "8aa02cb2",
   "metadata": {},
   "source": [
    "## Exercice 2 :  Vérification numérique de l'ordre des méthodes"
   ]
  },
  {
   "cell_type": "markdown",
   "id": "6bad3b2e",
   "metadata": {},
   "source": [
    "__Objectif :__ En s'appuyant sur l'approximation de cette intégrale (avec $p=4$), retrouver numériquement pour chaque formule de quadrature vu en cours son ordre.\n",
    "\n",
    "$$\n",
    "\\int_0^1 x^p dx = \\frac{1}{p+1}\n",
    "$$"
   ]
  },
  {
   "cell_type": "code",
   "execution_count": null,
   "id": "5fe37fdb",
   "metadata": {},
   "outputs": [],
   "source": [
    "p=4\n",
    "def power(x):\n",
    "    \"\"\"fonction x puissance p\"\"\"\n",
    "    return x**p"
   ]
  },
  {
   "cell_type": "markdown",
   "id": "25c70600",
   "metadata": {},
   "source": [
    "### 2.1 Coder les différentes formules de quadratures "
   ]
  },
  {
   "cell_type": "code",
   "execution_count": null,
   "id": "081834bb",
   "metadata": {},
   "outputs": [],
   "source": [
    "import numpy as np\n",
    "\n",
    "def rect_gauche(f, N, a=0, b=1):\n",
    "    \"\"\"Applique la méthode des rectangles a gauche pour f sur N rectangles entre a et b\"\"\"\n",
    "    xs = np.linspace(a,b, N)\n",
    "    h = xs[1] - xs[0]\n",
    "    I = 0\n",
    "    for i in range(N-1):\n",
    "        ...\n",
    "\n",
    "    return I\n",
    "\n",
    "\n",
    "def pt_milieu(f, N, a=0, b=1):\n",
    "    \"\"\"Applique la méthode du point milieu pour f sur N rectangles entre a et b\"\"\"\n",
    "    xs = np.linspace(a,b, N)\n",
    "    h = xs[1] - xs[0]\n",
    "    I = 0\n",
    "    for i in range(N-1):\n",
    "        ...\n",
    "    return I\n",
    "\n",
    "\n",
    "def simpson(f, N, a=0, b=1):\n",
    "    \"\"\"Applique la méthode de Simpson pour f sur N rectangles entre a et b\"\"\"\n",
    "    xs = np.linspace(a,b, N)\n",
    "    h = xs[1] - xs[0]\n",
    "    I = 0\n",
    "    for i in range(N-1):\n",
    "        ...\n",
    "    return I\n"
   ]
  },
  {
   "cell_type": "markdown",
   "id": "34b31731",
   "metadata": {},
   "source": [
    "__Vérification avec 10 000 rectangles pour sur l'intervalle [0,1] pour la méthode des rectangles à gauche__ \n",
    "\n",
    "La valeur exacte est 1/5."
   ]
  },
  {
   "cell_type": "code",
   "execution_count": null,
   "id": "160b4e61",
   "metadata": {},
   "outputs": [],
   "source": [
    "N = 10**4\n",
    "rect_gauche(power, N )"
   ]
  },
  {
   "cell_type": "markdown",
   "id": "1504b506",
   "metadata": {},
   "source": [
    "### 2.2 Vérification des ordres des méthodes"
   ]
  },
  {
   "cell_type": "markdown",
   "id": "8b10ac37",
   "metadata": {},
   "source": [
    "Pour chacune des méthodes :\n",
    "- Calculer un nombre de rectangles variable, $N=10, 100, ... 10000$\n",
    "- Comparer l'approximation fournie avec la valeur exacte de l'intégrale, égale à $\\frac{1}{p+1}$"
   ]
  },
  {
   "cell_type": "code",
   "execution_count": null,
   "id": "cc4f8e05",
   "metadata": {},
   "outputs": [],
   "source": [
    "import matplotlib.pyplot as plt\n",
    "Ns = [10**i for i in range(1,5)]\n",
    "methodes = [rect_gauche, pt_milieu, simpson]\n",
    "\n",
    "plt.figure(figsize=(10,6))\n",
    "p=5\n",
    "for methode in methodes:\n",
    "    \n",
    "    erreurs = []\n",
    "    for N in Ns:\n",
    "        approx_num = methode(power, N)\n",
    "        erreur = abs(approx_num - 1/(p+1))\n",
    "        erreurs.append(erreur)\n",
    "\n",
    "    plt.plot(Ns, erreurs,label=methode.__name__)\n",
    "\n",
    "\n",
    "plt.loglog();\n",
    "plt.legend();\n",
    "plt.grid(); plt.xlabel(\"Number of rectangles\"); plt.ylabel('Error');\n",
    "plt.title(\"Comparaison des méthodes\");"
   ]
  }
 ],
 "metadata": {
  "kernelspec": {
   "display_name": "Python 3 (ipykernel)",
   "language": "python",
   "name": "python3"
  },
  "language_info": {
   "codemirror_mode": {
    "name": "ipython",
    "version": 3
   },
   "file_extension": ".py",
   "mimetype": "text/x-python",
   "name": "python",
   "nbconvert_exporter": "python",
   "pygments_lexer": "ipython3",
   "version": "3.10.2"
  }
 },
 "nbformat": 4,
 "nbformat_minor": 5
}
