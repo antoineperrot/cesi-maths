{
 "cells": [
  {
   "cell_type": "markdown",
   "id": "f9330401",
   "metadata": {},
   "source": [
    "## Sommes de Darboux pour $y=x^2$ sur l'intervalle $[0,1]$\n",
    "\n",
    "Inférieure             | Supérieure\n",
    ":-------------------------:|:-------------------------:\n",
    "![](data/Riemann_Integration_and_Darboux_Lower_Sums.gif)  |  ![](data/Riemann_Integration_and_Darboux_Upper_Sums.gif)\n",
    "\n",
    "\n",
    "[source Wikipédia](https://fr.wikipedia.org/wiki/Int%C3%A9grale_de_Darboux#:~:text=Plus%20concr%C3%A8tement%2C%20pour%20une%20subdivision,sous%2Dintervalle%20de%20la%20subdivision.)"
   ]
  },
  {
   "cell_type": "markdown",
   "id": "d3211010",
   "metadata": {},
   "source": [
    "## Calcul formule de quadrature aux noeuds 1/3 et 2/3 "
   ]
  },
  {
   "cell_type": "code",
   "execution_count": 1,
   "id": "dfaa64fb",
   "metadata": {},
   "outputs": [
    {
     "name": "stdout",
     "output_type": "stream",
     "text": [
      "V=\n",
      " [[1.         1.        ]\n",
      " [0.33333333 0.66666667]]\n",
      "\n",
      "qs=\n",
      " [1.  0.5]\n",
      "\n",
      "poids=\n",
      " [0.5 0.5]\n"
     ]
    }
   ],
   "source": [
    "import numpy as np\n",
    "noeuds = [1/3,2/3]\n",
    "s = len(noeuds)\n",
    "\n",
    "V = np.zeros((s,s))\n",
    "\n",
    "qs = np.zeros(s)\n",
    "for ordre in range(s):\n",
    "    for index, noeud in enumerate(noeuds):\n",
    "        V[ordre, index] = noeud**ordre \n",
    "    qs[ordre] = 1/(ordre+1)\n",
    "\n",
    "print('V=\\n',V)\n",
    "print('\\nqs=\\n', qs)\n",
    "\n",
    "poids = np.linalg.inv(V) @ qs\n",
    "\n",
    "print(\"\\npoids=\\n\",poids)"
   ]
  },
  {
   "cell_type": "markdown",
   "id": "3ca574b3",
   "metadata": {},
   "source": [
    "- > La formule de quadrature aux noeuds $\\frac{1}{3}$ et $\\frac{2}{3}$ est donc  :\n",
    "$$\n",
    "I\\simeq \\frac{1}{2}\\left[f\\left(\\frac{1}{3}\\right) + f\\left(\\frac{2}{3}\\right)\\right]\n",
    "$$"
   ]
  },
  {
   "cell_type": "markdown",
   "id": "6fffd1ca",
   "metadata": {},
   "source": [
    "# Systèmes dynamiques"
   ]
  },
  {
   "cell_type": "markdown",
   "id": "96aacbde",
   "metadata": {},
   "source": [
    "![](data/animated-lorenz-attractor.gif)\n",
    "[source](https://geoffboeing.com/2016/12/animating-lorenz-attractor-python/)"
   ]
  },
  {
   "cell_type": "markdown",
   "id": "72013446",
   "metadata": {},
   "source": [
    "## Méthodes numériques\n",
    "\n",
    "[Sources méthodes numériques](https://femto-physique.fr/analyse-numerique/runge-kutta.php)"
   ]
  }
 ],
 "metadata": {
  "kernelspec": {
   "display_name": "Python 3",
   "language": "python",
   "name": "python3"
  },
  "language_info": {
   "codemirror_mode": {
    "name": "ipython",
    "version": 3
   },
   "file_extension": ".py",
   "mimetype": "text/x-python",
   "name": "python",
   "nbconvert_exporter": "python",
   "pygments_lexer": "ipython3",
   "version": "3.8.8"
  }
 },
 "nbformat": 4,
 "nbformat_minor": 5
}
