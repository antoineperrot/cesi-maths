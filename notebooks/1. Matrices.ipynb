{
 "cells": [
  {
   "cell_type": "markdown",
   "id": "07e8511a",
   "metadata": {},
   "source": [
    "## Exercice 1"
   ]
  },
  {
   "cell_type": "code",
   "execution_count": 1,
   "id": "7ad45b22",
   "metadata": {},
   "outputs": [],
   "source": [
    "import numpy as np\n",
    "\n",
    "A = np.array([[1,0,-1],\n",
    "              [1,2,1 ],\n",
    "              [2,2,3 ]])\n",
    "\n",
    "P = np.array([[1 , 2, 1],\n",
    "              [-1,-1,-1],\n",
    "              [0,-2,-2]])"
   ]
  },
  {
   "cell_type": "markdown",
   "id": "5814d37c",
   "metadata": {},
   "source": [
    "### Partie A"
   ]
  },
  {
   "cell_type": "markdown",
   "id": "f1790b56",
   "metadata": {},
   "source": [
    "__1)__"
   ]
  },
  {
   "cell_type": "code",
   "execution_count": 2,
   "id": "e6cf3686",
   "metadata": {},
   "outputs": [
    {
     "name": "stdout",
     "output_type": "stream",
     "text": [
      "A^2=\n",
      " [[-1 -2 -4]\n",
      " [ 5  6  4]\n",
      " [10 10  9]]\n",
      "\n",
      "A^3=\n",
      " [[-11 -12 -13]\n",
      " [ 19  20  13]\n",
      " [ 38  38  27]]\n"
     ]
    }
   ],
   "source": [
    "print(\"A^2=\\n\",A @ A)\n",
    "print(\"\\nA^3=\\n\",A @ A @ A)"
   ]
  },
  {
   "cell_type": "markdown",
   "id": "d36599ee",
   "metadata": {},
   "source": [
    "__3)__"
   ]
  },
  {
   "cell_type": "code",
   "execution_count": 3,
   "id": "ab4ac597",
   "metadata": {},
   "outputs": [
    {
     "name": "stdout",
     "output_type": "stream",
     "text": [
      "A^-1=\n",
      " [[ 0.66666667 -0.33333333  0.33333333]\n",
      " [-0.16666667  0.83333333 -0.33333333]\n",
      " [-0.33333333 -0.33333333  0.33333333]]\n",
      "\n",
      "Pour la passer en fractions:\n",
      "6A^-1=\n",
      " [[ 4. -2.  2.]\n",
      " [-1.  5. -2.]\n",
      " [-2. -2.  2.]]\n"
     ]
    }
   ],
   "source": [
    "invA = (A @ A - 6*A + 11 * np.eye(3))/6\n",
    "print('A^-1=\\n',invA)\n",
    "\n",
    "print('\\nPour la passer en fractions:\\n6A^-1=\\n',invA*6)"
   ]
  },
  {
   "cell_type": "code",
   "execution_count": 4,
   "id": "647d496c",
   "metadata": {},
   "outputs": [
    {
     "name": "stdout",
     "output_type": "stream",
     "text": [
      "Vérification : calcul de l'inverse de A avec numpy :\n"
     ]
    },
    {
     "data": {
      "text/plain": [
       "array([[ 4., -2.,  2.],\n",
       "       [-1.,  5., -2.],\n",
       "       [-2., -2.,  2.]])"
      ]
     },
     "execution_count": 4,
     "metadata": {},
     "output_type": "execute_result"
    }
   ],
   "source": [
    "print(\"Vérification : calcul de l'inverse de A avec numpy :\")\n",
    "\n",
    "6* np.linalg.inv(A)"
   ]
  },
  {
   "cell_type": "markdown",
   "id": "1ab065fc",
   "metadata": {},
   "source": [
    "__4)__ Il faut résoudre $AX=b$"
   ]
  },
  {
   "cell_type": "code",
   "execution_count": 5,
   "id": "28f9ef56",
   "metadata": {},
   "outputs": [
    {
     "name": "stdout",
     "output_type": "stream",
     "text": [
      "X= [3. 2. 1.]\n"
     ]
    }
   ],
   "source": [
    "b = np.array([2,8,13])\n",
    "X = invA @ b\n",
    "print('X=', X)"
   ]
  },
  {
   "cell_type": "markdown",
   "id": "46d7d24c",
   "metadata": {},
   "source": [
    "## Exercice 2"
   ]
  },
  {
   "cell_type": "code",
   "execution_count": 6,
   "id": "658ff5b2",
   "metadata": {},
   "outputs": [],
   "source": [
    "P = np.array([[1,1,1],\n",
    "              [1,2,3],\n",
    "              [1,4,8]])"
   ]
  },
  {
   "cell_type": "markdown",
   "id": "43b4d9a2",
   "metadata": {},
   "source": [
    "__1)__ $A$ vaut :"
   ]
  },
  {
   "cell_type": "code",
   "execution_count": 7,
   "id": "5d437ae2",
   "metadata": {},
   "outputs": [],
   "source": [
    "A = np.array([[0,1,0],\n",
    "              [0,0,1],\n",
    "              [4,-8,5]])"
   ]
  },
  {
   "cell_type": "markdown",
   "id": "f302cec6",
   "metadata": {},
   "source": [
    "__3)__ Méthode de résolution : tenter d'inverser $P$ en appliquant le pivot de Gauss, normalement tout se passe bien et on trouve :"
   ]
  },
  {
   "cell_type": "code",
   "execution_count": 8,
   "id": "c0122e0c",
   "metadata": {},
   "outputs": [
    {
     "data": {
      "text/plain": [
       "array([[ 4., -4.,  1.],\n",
       "       [-5.,  7., -2.],\n",
       "       [ 2., -3.,  1.]])"
      ]
     },
     "execution_count": 8,
     "metadata": {},
     "output_type": "execute_result"
    }
   ],
   "source": [
    "np.linalg.inv(P)"
   ]
  },
  {
   "cell_type": "markdown",
   "id": "e4b3e28d",
   "metadata": {},
   "source": [
    "__4)__"
   ]
  },
  {
   "cell_type": "code",
   "execution_count": 9,
   "id": "91e8d279",
   "metadata": {},
   "outputs": [
    {
     "data": {
      "text/plain": [
       "array([[ 1.,  0.,  0.],\n",
       "       [-0.,  2.,  1.],\n",
       "       [ 0.,  0.,  2.]])"
      ]
     },
     "execution_count": 9,
     "metadata": {},
     "output_type": "execute_result"
    }
   ],
   "source": [
    "T = np.round(np.linalg.inv(P) @A @ P,2)\n",
    "T"
   ]
  },
  {
   "cell_type": "code",
   "execution_count": 10,
   "id": "6791abf2",
   "metadata": {},
   "outputs": [
    {
     "data": {
      "text/plain": [
       "array([[1, 0, 0],\n",
       "       [0, 2, 0],\n",
       "       [0, 0, 2]])"
      ]
     },
     "execution_count": 10,
     "metadata": {},
     "output_type": "execute_result"
    }
   ],
   "source": [
    "D = np.diag([1,2,2])\n",
    "D"
   ]
  },
  {
   "cell_type": "code",
   "execution_count": 11,
   "id": "c1075008",
   "metadata": {},
   "outputs": [
    {
     "data": {
      "text/plain": [
       "array([[0., 0., 0.],\n",
       "       [0., 0., 1.],\n",
       "       [0., 0., 0.]])"
      ]
     },
     "execution_count": 11,
     "metadata": {},
     "output_type": "execute_result"
    }
   ],
   "source": [
    "J = np.zeros((3,3))\n",
    "J[1,2] = 1\n",
    "J "
   ]
  },
  {
   "cell_type": "markdown",
   "id": "783edd82",
   "metadata": {},
   "source": [
    "__4')__"
   ]
  },
  {
   "cell_type": "code",
   "execution_count": 12,
   "id": "d902aeb9",
   "metadata": {},
   "outputs": [
    {
     "data": {
      "text/plain": [
       "array([[0., 0., 0.],\n",
       "       [0., 0., 0.],\n",
       "       [0., 0., 0.]])"
      ]
     },
     "execution_count": 12,
     "metadata": {},
     "output_type": "execute_result"
    }
   ],
   "source": [
    "np.linalg.matrix_power(J,2)"
   ]
  },
  {
   "cell_type": "markdown",
   "id": "01246623",
   "metadata": {},
   "source": [
    "$J^2=0$ donc $J^n = 0 \\;\\;\\forall n \\geq 2$ ."
   ]
  },
  {
   "cell_type": "markdown",
   "id": "fc914988",
   "metadata": {},
   "source": [
    "__4'')__"
   ]
  },
  {
   "cell_type": "code",
   "execution_count": 13,
   "id": "5ec0e28c",
   "metadata": {},
   "outputs": [
    {
     "data": {
      "text/plain": [
       "array([[0., 0., 0.],\n",
       "       [0., 0., 0.],\n",
       "       [0., 0., 0.]])"
      ]
     },
     "execution_count": 13,
     "metadata": {},
     "output_type": "execute_result"
    }
   ],
   "source": [
    "D@J - J@D"
   ]
  },
  {
   "cell_type": "markdown",
   "id": "e34a7a6c",
   "metadata": {},
   "source": [
    "Le produit $J\\times D$ est commutatif : on peut donc appliquer la formule du binôme de Newton pour calculer $(J+D)^n$."
   ]
  },
  {
   "cell_type": "markdown",
   "id": "46bba109",
   "metadata": {},
   "source": [
    "__5)__ Vérification de la formule trouvée avec $n=4$ :"
   ]
  },
  {
   "cell_type": "code",
   "execution_count": 14,
   "id": "bd1b11c8",
   "metadata": {},
   "outputs": [
    {
     "data": {
      "text/plain": [
       "array([[ 1.,  0.,  0.],\n",
       "       [ 0., 16., 32.],\n",
       "       [ 0.,  0., 16.]])"
      ]
     },
     "execution_count": 14,
     "metadata": {},
     "output_type": "execute_result"
    }
   ],
   "source": [
    "np.linalg.matrix_power(T,4)"
   ]
  },
  {
   "cell_type": "markdown",
   "id": "3ee9aa60",
   "metadata": {},
   "source": [
    "__8)__ On trouve à la main :"
   ]
  },
  {
   "cell_type": "code",
   "execution_count": 15,
   "id": "ee70948b",
   "metadata": {},
   "outputs": [],
   "source": [
    "def u_direct(n):\n",
    "    return (2**n*(n-5) +2**(n+1)+4)*3 +(7*2**n-3*2**(n-1)*(n+2)-4) * 1 \\\n",
    "        + (1+n*2**(n-1)-2**(n+1)+2**n)*(-1)"
   ]
  },
  {
   "cell_type": "markdown",
   "id": "eefe5835",
   "metadata": {},
   "source": [
    "__Vérification des résultats :__"
   ]
  },
  {
   "cell_type": "code",
   "execution_count": 16,
   "id": "b0352c0e",
   "metadata": {},
   "outputs": [
    {
     "data": {
      "text/plain": [
       "704643079"
      ]
     },
     "execution_count": 16,
     "metadata": {},
     "output_type": "execute_result"
    }
   ],
   "source": [
    "u_direct(25)"
   ]
  },
  {
   "cell_type": "code",
   "execution_count": 17,
   "id": "1c18569f",
   "metadata": {},
   "outputs": [
    {
     "data": {
      "text/plain": [
       "array([  704643079,  1476395015, -1207959545])"
      ]
     },
     "execution_count": 17,
     "metadata": {},
     "output_type": "execute_result"
    }
   ],
   "source": [
    "X0 = np.array([3,1,-1])\n",
    "np.linalg.matrix_power(A,25) @X0"
   ]
  },
  {
   "cell_type": "markdown",
   "id": "73fe5082",
   "metadata": {},
   "source": [
    "__c'est bon__"
   ]
  },
  {
   "cell_type": "markdown",
   "id": "9ce7335a",
   "metadata": {},
   "source": [
    "## Chaînes de Markov.. à suivre"
   ]
  }
 ],
 "metadata": {
  "kernelspec": {
   "display_name": "Python 3",
   "language": "python",
   "name": "python3"
  },
  "language_info": {
   "codemirror_mode": {
    "name": "ipython",
    "version": 3
   },
   "file_extension": ".py",
   "mimetype": "text/x-python",
   "name": "python",
   "nbconvert_exporter": "python",
   "pygments_lexer": "ipython3",
   "version": "3.8.8"
  }
 },
 "nbformat": 4,
 "nbformat_minor": 5
}
