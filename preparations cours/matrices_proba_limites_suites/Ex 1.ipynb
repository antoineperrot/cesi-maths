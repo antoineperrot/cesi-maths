{
 "cells": [
  {
   "cell_type": "markdown",
   "id": "a539d3ba",
   "metadata": {},
   "source": [
    "## EX 1 PARTIE A"
   ]
  },
  {
   "cell_type": "code",
   "execution_count": 23,
   "id": "902faa9e",
   "metadata": {},
   "outputs": [
    {
     "data": {
      "text/plain": [
       "(array([[-1, -2, -4],\n",
       "        [ 5,  6,  4],\n",
       "        [10, 10,  9]]),\n",
       " array([[-11, -12, -13],\n",
       "        [ 19,  20,  13],\n",
       "        [ 38,  38,  27]]))"
      ]
     },
     "execution_count": 23,
     "metadata": {},
     "output_type": "execute_result"
    }
   ],
   "source": [
    "A = np.array([[1, 0, -1,], [1,2,1], [2,2,3]])\n",
    "A2 = A @ A\n",
    "A3 = A2 @ A\n",
    "A2, A3"
   ]
  },
  {
   "cell_type": "code",
   "execution_count": 24,
   "id": "709d1acc",
   "metadata": {},
   "outputs": [
    {
     "data": {
      "text/plain": [
       "array([[0., 0., 0.],\n",
       "       [0., 0., 0.],\n",
       "       [0., 0., 0.]])"
      ]
     },
     "execution_count": 24,
     "metadata": {},
     "output_type": "execute_result"
    }
   ],
   "source": [
    "a = 6\n",
    "b = -11\n",
    "c = 6\n",
    "\n",
    "A3 - a * A2 -b * A - c* np.eye(3)"
   ]
  },
  {
   "cell_type": "code",
   "execution_count": 25,
   "id": "fa174591",
   "metadata": {},
   "outputs": [
    {
     "data": {
      "text/plain": [
       "array([3., 2., 1.])"
      ]
     },
     "execution_count": 25,
     "metadata": {},
     "output_type": "execute_result"
    }
   ],
   "source": [
    "B = np.array([2, 8 , 13])\n",
    "np.linalg.solve(A, B)"
   ]
  },
  {
   "cell_type": "markdown",
   "id": "64a683cb",
   "metadata": {},
   "source": [
    "## EX 1 PARTIE B"
   ]
  },
  {
   "cell_type": "code",
   "execution_count": 26,
   "id": "96d90bd7",
   "metadata": {},
   "outputs": [
    {
     "data": {
      "text/plain": [
       "(-2.0,\n",
       " array([[ 0. , -1. ,  0.5],\n",
       "        [ 1. ,  1. , -0. ],\n",
       "        [-1. , -1. , -0.5]]))"
      ]
     },
     "execution_count": 26,
     "metadata": {},
     "output_type": "execute_result"
    }
   ],
   "source": [
    "P = np.array([[1, 2 ,1], [-1, -1, -1], [0, -2, -2]])\n",
    "\n",
    "np.linalg.det(P), np.linalg.inv(P)"
   ]
  }
 ],
 "metadata": {
  "kernelspec": {
   "display_name": "Python 3 (ipykernel)",
   "language": "python",
   "name": "python3"
  },
  "language_info": {
   "codemirror_mode": {
    "name": "ipython",
    "version": 3
   },
   "file_extension": ".py",
   "mimetype": "text/x-python",
   "name": "python",
   "nbconvert_exporter": "python",
   "pygments_lexer": "ipython3",
   "version": "3.9.13"
  }
 },
 "nbformat": 4,
 "nbformat_minor": 5
}
